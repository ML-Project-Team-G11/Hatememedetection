{
  "cells": [
    {
      "cell_type": "markdown",
      "metadata": {
        "id": "view-in-github",
        "colab_type": "text"
      },
      "source": [
        "<a href=\"https://colab.research.google.com/github/Muhammad-Huzaifaa/Hatememedetection/blob/master/Chararacter_Level_RNN_Huzaifa.ipynb\" target=\"_parent\"><img src=\"https://colab.research.google.com/assets/colab-badge.svg\" alt=\"Open In Colab\"/></a>"
      ]
    },
    {
      "cell_type": "markdown",
      "metadata": {
        "id": "RGn0xEPVyLJe"
      },
      "source": [
        "# Character-Level LSTM in PyTorch\n",
        "\n",
        "In this notebook, I'll construct a character-level LSTM with PyTorch. The network will train character by character on some text, then generate new text character by character. As an example, I will train on Anna Karenina. **This model will be able to generate new text based on the text from the book!**\n",
        "\n",
        "This network is based off of Andrej Karpathy's [post on RNNs](http://karpathy.github.io/2015/05/21/rnn-effectiveness/) and [implementation in Torch](https://github.com/karpathy/char-rnn). Below is the general architecture of the character-wise RNN.\n",
        "\n",
        "<img src=\"assets/charseq.jpeg\" width=\"500\">"
      ]
    },
    {
      "cell_type": "markdown",
      "metadata": {
        "id": "QpQJR6BWyLJf"
      },
      "source": [
        "First let's load in our required resources for data loading and model creation."
      ]
    },
    {
      "cell_type": "code",
      "source": [
        "!git clone https://github.com/LaurentVeyssier/Text-generation-using-LSTM.git"
      ],
      "metadata": {
        "id": "oSB4d0cLyhuG"
      },
      "execution_count": null,
      "outputs": []
    },
    {
      "cell_type": "code",
      "execution_count": 1,
      "metadata": {
        "id": "F5IvacYyyLJf"
      },
      "outputs": [],
      "source": [
        "import numpy as np\n",
        "import torch\n",
        "from torch import nn\n",
        "import torch.nn.functional as F\n"
      ]
    },
    {
      "cell_type": "markdown",
      "metadata": {
        "id": "cAbrWZMlyLJg"
      },
      "source": [
        "## Load in Data\n",
        "\n",
        "Then, we'll load the Anna Karenina text file and convert it into integers for our network to use. \n",
        "\n",
        "### Tokenization\n",
        "\n",
        "In the second cell, below, I'm creating a couple **dictionaries** to convert the characters to and from integers. Encoding the characters as integers makes it easier to use as input in the network."
      ]
    },
    {
      "cell_type": "code",
      "execution_count": 3,
      "metadata": {
        "id": "f3A18kQ8yLJg"
      },
      "outputs": [],
      "source": [
        "# open text file and read in data as `text`\n",
        "with open('/content/anna.txt', 'r') as f:\n",
        "    text = f.read()"
      ]
    },
    {
      "cell_type": "markdown",
      "metadata": {
        "id": "07EJZLCLyLJh"
      },
      "source": [
        "Now we have the text, encode it as integers."
      ]
    },
    {
      "cell_type": "code",
      "execution_count": 4,
      "metadata": {
        "id": "SsbaDiRLyLJh",
        "colab": {
          "base_uri": "https://localhost:8080/"
        },
        "outputId": "3e68ff68-b9f2-4680-8bb5-43289089fd7a"
      },
      "outputs": [
        {
          "output_type": "stream",
          "name": "stdout",
          "text": [
            "('V', 'c', 'g', '!', 'M', '4', 'U', '5', 'W', 'a', 'S', 'y', 'B', '1', 'z', '\"', '\\n', '&', '.', 'j', 'X', '*', 'd', 'e', 'Q', 'P', 'Y', '$', 'i', 'A', 'C', ')', '8', 'G', 'h', '3', 'q', '`', 'b', '(', '-', 'v', 'D', 'x', 'n', '6', ',', '_', ':', 'Z', ' ', '2', 't', 'R', 'k', '9', 'u', 'w', 'l', '%', 'T', 'L', 'p', 'm', 's', 'K', 'E', 'o', 'O', '0', 'H', 'f', '?', 'I', ';', 'r', '7', 'N', '@', 'J', \"'\", '/', 'F')\n",
            "83\n",
            "{0: 'V', 1: 'c', 2: 'g', 3: '!', 4: 'M', 5: '4', 6: 'U', 7: '5', 8: 'W', 9: 'a', 10: 'S', 11: 'y', 12: 'B', 13: '1', 14: 'z', 15: '\"', 16: '\\n', 17: '&', 18: '.', 19: 'j', 20: 'X', 21: '*', 22: 'd', 23: 'e', 24: 'Q', 25: 'P', 26: 'Y', 27: '$', 28: 'i', 29: 'A', 30: 'C', 31: ')', 32: '8', 33: 'G', 34: 'h', 35: '3', 36: 'q', 37: '`', 38: 'b', 39: '(', 40: '-', 41: 'v', 42: 'D', 43: 'x', 44: 'n', 45: '6', 46: ',', 47: '_', 48: ':', 49: 'Z', 50: ' ', 51: '2', 52: 't', 53: 'R', 54: 'k', 55: '9', 56: 'u', 57: 'w', 58: 'l', 59: '%', 60: 'T', 61: 'L', 62: 'p', 63: 'm', 64: 's', 65: 'K', 66: 'E', 67: 'o', 68: 'O', 69: '0', 70: 'H', 71: 'f', 72: '?', 73: 'I', 74: ';', 75: 'r', 76: '7', 77: 'N', 78: '@', 79: 'J', 80: \"'\", 81: '/', 82: 'F'}\n"
          ]
        },
        {
          "output_type": "execute_result",
          "data": {
            "text/plain": [
              "1985223"
            ]
          },
          "metadata": {},
          "execution_count": 4
        }
      ],
      "source": [
        "# encode the text and map each character to an integer and vice versa\n",
        "\n",
        "# we create two dictonaries:\n",
        "# 1. int2char, which maps integers to characters\n",
        "# 2. char2int, which maps characters to unique integers\n",
        "chars = tuple(set(text))\n",
        "print(chars)\n",
        "print(len(chars))\n",
        "int2char = dict(enumerate(chars))\n",
        "print(int2char)\n",
        "char2int = {ch: ii for ii, ch in int2char.items()}\n",
        "encoded = np.array([char2int[ch] for ch in text])\n",
        "len(encoded)"
      ]
    },
    {
      "cell_type": "markdown",
      "metadata": {
        "id": "VepUxMKVyLJi"
      },
      "source": [
        "Let's check out the first 100 characters, make sure everything is peachy. According to the [American Book Review](http://americanbookreview.org/100bestlines.asp), this is the 6th best first line of a book ever."
      ]
    },
    {
      "cell_type": "code",
      "execution_count": 5,
      "metadata": {
        "id": "GC_o75BQyLJj",
        "colab": {
          "base_uri": "https://localhost:8080/",
          "height": 36
        },
        "outputId": "f7e03843-3705-4e40-e19b-99e7b716a809"
      },
      "outputs": [
        {
          "output_type": "execute_result",
          "data": {
            "text/plain": [
              "'Chapter 1\\n\\n\\nHappy families are all alike; every unhappy family is unhappy in its own\\nway.\\n\\nEverythin'"
            ],
            "application/vnd.google.colaboratory.intrinsic+json": {
              "type": "string"
            }
          },
          "metadata": {},
          "execution_count": 5
        }
      ],
      "source": [
        "text[:100]"
      ]
    },
    {
      "cell_type": "markdown",
      "metadata": {
        "id": "ybfz--ALyLJj"
      },
      "source": [
        "And we can see those same characters encoded as integers."
      ]
    },
    {
      "cell_type": "code",
      "execution_count": 6,
      "metadata": {
        "id": "LrcKuql0yLJj",
        "colab": {
          "base_uri": "https://localhost:8080/"
        },
        "outputId": "6b449a8e-00ae-40d6-8d5c-4cd52707c722"
      },
      "outputs": [
        {
          "output_type": "execute_result",
          "data": {
            "text/plain": [
              "array([30, 34,  9, 62, 52, 23, 75, 50, 13, 16, 16, 16, 70,  9, 62, 62, 11,\n",
              "       50, 71,  9, 63, 28, 58, 28, 23, 64, 50,  9, 75, 23, 50,  9, 58, 58,\n",
              "       50,  9, 58, 28, 54, 23, 74, 50, 23, 41, 23, 75, 11, 50, 56, 44, 34,\n",
              "        9, 62, 62, 11, 50, 71,  9, 63, 28, 58, 11, 50, 28, 64, 50, 56, 44,\n",
              "       34,  9, 62, 62, 11, 50, 28, 44, 50, 28, 52, 64, 50, 67, 57, 44, 16,\n",
              "       57,  9, 11, 18, 16, 16, 66, 41, 23, 75, 11, 52, 34, 28, 44])"
            ]
          },
          "metadata": {},
          "execution_count": 6
        }
      ],
      "source": [
        "encoded[:100]"
      ]
    },
    {
      "cell_type": "markdown",
      "metadata": {
        "id": "pGqF0WuxyLJk"
      },
      "source": [
        "## Pre-processing the data\n",
        "\n",
        "As you can see in our char-RNN image above, our LSTM expects an input that is **one-hot encoded** meaning that each character is converted into an intgere (via our created dictionary) and *then* converted into a column vector where only it's corresponsing integer index will have the value of 1 and the rest of the vector will be filled with 0's. Since we're one-hot encoding the data, let's make a function to do that!\n"
      ]
    },
    {
      "cell_type": "code",
      "execution_count": 7,
      "metadata": {
        "id": "kMyOhnQeyLJk"
      },
      "outputs": [],
      "source": [
        "def one_hot_encode(arr, n_labels):\n",
        "    \n",
        "    # Initialize the the encoded array\n",
        "    one_hot = np.zeros((np.multiply(*arr.shape), n_labels), dtype=np.float32)\n",
        "    \n",
        "    # Fill the appropriate elements with ones\n",
        "    one_hot[np.arange(one_hot.shape[0]), arr.flatten()] = 1.\n",
        "    \n",
        "    # Finally reshape it to get back to the original array\n",
        "    one_hot = one_hot.reshape((*arr.shape, n_labels))\n",
        "    \n",
        "    return one_hot"
      ]
    },
    {
      "cell_type": "markdown",
      "metadata": {
        "id": "peWocmhDyLJk"
      },
      "source": [
        "## Making training mini-batches\n",
        "\n",
        "\n",
        "To train on this data, we also want to create mini-batches for training. Remember that we want our batches to be multiple sequences of some desired number of sequence steps. Considering a simple example, our batches would look like this:\n",
        "\n",
        "<img src=\"assets/sequence_batching@1x.png\" width=500px>\n",
        "\n",
        "\n",
        "<br>\n",
        "\n",
        "In this example, we'll take the encoded characters (passed in as the `arr` parameter) and split them into multiple sequences, given by `n_seqs` (also refered to as \"batch size\" in other places). Each of those sequences will be `n_steps` long.\n",
        "\n",
        "### Creating Batches\n",
        "\n",
        "**1. The first thing we need to do is discard some of the text so we only have completely full batches. **\n",
        "\n",
        "Each batch contains $N \\times M$ characters, where $N$ is the batch size (the number of sequences) and $M$ is the number of steps. Then, to get the total number of batches, $K$, we can make from the array `arr`, you divide the length of `arr` by the number of characters per batch. Once you know the number of batches, you can get the total number of characters to keep from `arr`, $N * M * K$.\n",
        "\n",
        "**2. After that, we need to split `arr` into $N$ sequences. ** \n",
        "\n",
        "You can do this using `arr.reshape(size)` where `size` is a tuple containing the dimensions sizes of the reshaped array. We know we want $N$ sequences, so let's make that the size of the first dimension. For the second dimension, you can use `-1` as a placeholder in the size, it'll fill up the array with the appropriate data for you. After this, you should have an array that is $N \\times (M * K)$.\n",
        "\n",
        "**3. Now that we have this array, we can iterate through it to get our batches. **\n",
        "\n",
        "The idea is each batch is a $N \\times M$ window on the $N \\times (M * K)$ array. For each subsequent batch, the window moves over by `n_steps`. We also want to create both the input and target arrays. Remember that the targets are the inputs shifted over one character. The way I like to do this window is use `range` to take steps of size `n_steps` from $0$ to `arr.shape[1]`, the total number of steps in each sequence. That way, the integers you get from `range` always point to the start of a batch, and each window is `n_steps` wide.\n",
        "\n",
        "> **TODO:** Write the code for creating batches in the function below. The exercises in this notebook _will not be easy_. I've provided a notebook with solutions alongside this notebook. If you get stuck, checkout the solutions. The most important thing is that you don't copy and paste the code into here, **type out the solution code yourself.**"
      ]
    },
    {
      "cell_type": "code",
      "execution_count": 8,
      "metadata": {
        "id": "D2qyYIIxyLJl"
      },
      "outputs": [],
      "source": [
        "def get_batches(arr, n_seqs, n_steps):\n",
        "    '''Create a generator that returns batches of size\n",
        "       n_seqs x n_steps from arr.\n",
        "       \n",
        "       Arguments\n",
        "       ---------\n",
        "       arr: Array you want to make batches from\n",
        "       n_seqs: Batch size, the number of sequences per batch\n",
        "       n_steps: Number of sequence steps per batch\n",
        "    '''\n",
        "    \n",
        "    # Get the number of characters per batch\n",
        "    batch_size = n_seqs * n_steps\n",
        "    \n",
        "    ## TODO: Get the number of batches we can make\n",
        "    n_batches = len(arr)//batch_size\n",
        "    \n",
        "    ## TODO: Keep only enough characters to make full batches\n",
        "    arr = arr[:int(n_batches*batch_size)]\n",
        "    \n",
        "    ## TODO: Reshape into batch_size rows\n",
        "    arr = np.reshape(arr, (n_seqs,-1))\n",
        "    \n",
        "    ## TODO: Make batches\n",
        "    for n in range(0, arr.shape[1], n_steps):\n",
        "        # The features\n",
        "        x = arr[:,n:n+n_steps]\n",
        "        # The targets, shifted by one\n",
        "        y = np.zeros_like(x)\n",
        "        try:\n",
        "            y[:, :-1], y[:, -1] = x[:, 1:], arr[:, n+n_steps]\n",
        "        except IndexError:\n",
        "            y[:, :-1], y[:, -1] = x[:, 1:], arr[:, 0]\n",
        "            \n",
        "        #try:\n",
        "        #    arr[:,n+n_steps]\n",
        "        #    y = arr[:,n+1:n+n_steps+1]\n",
        "        #except:\n",
        "        #    y = np.append(x[:,1:], arr[:,0:1], axis = 1)\n",
        "        #    print('end of array')\n",
        "        #    print('x :', x.shape, 'y:', y.shape)'''\n",
        "       \n",
        "        yield x, y"
      ]
    },
    {
      "cell_type": "markdown",
      "metadata": {
        "id": "GS1vHNFQyLJl"
      },
      "source": [
        "### Test Your Implementation\n",
        "\n",
        "Now I'll make some data sets and we can check out what's going on as we batch data. Here, as an example, I'm going to use a batch size of 10 and 50 sequence steps."
      ]
    },
    {
      "cell_type": "code",
      "execution_count": 9,
      "metadata": {
        "id": "VngvxXXoyLJl",
        "colab": {
          "base_uri": "https://localhost:8080/"
        },
        "outputId": "c0060a52-0c18-4918-939a-80411d1e1962"
      },
      "outputs": [
        {
          "output_type": "stream",
          "name": "stdout",
          "text": [
            "x : (10, 50) y: (10, 50)\n"
          ]
        }
      ],
      "source": [
        "batches = get_batches(encoded, 10, 50)\n",
        "x, y = next(batches)\n",
        "print('x :', x.shape, 'y:', y.shape)"
      ]
    },
    {
      "cell_type": "code",
      "execution_count": 10,
      "metadata": {
        "id": "p91aFQMWyLJl",
        "colab": {
          "base_uri": "https://localhost:8080/"
        },
        "outputId": "b13c1974-0e3c-49ff-f0c2-d6db67b3bff5"
      },
      "outputs": [
        {
          "output_type": "stream",
          "name": "stdout",
          "text": [
            "x\n",
            " [[30 34  9 62 52 23 75 50 13 16]\n",
            " [50  9 63 50 44 67 52 50  2 67]\n",
            " [41 28 44 18 16 16 15 26 23 64]\n",
            " [44 50 22 56 75 28 44  2 50 34]\n",
            " [50 28 52 50 28 64 46 50 64 28]\n",
            " [50 73 52 50 57  9 64 16 67 44]\n",
            " [34 23 44 50  1 67 63 23 50 71]\n",
            " [74 50 38 56 52 50 44 67 57 50]\n",
            " [52 50 28 64 44 80 52 18 50 60]\n",
            " [50 64  9 28 22 50 52 67 50 34]]\n",
            "\n",
            "y\n",
            " [[34  9 62 52 23 75 50 13 16 16]\n",
            " [ 9 63 50 44 67 52 50  2 67 28]\n",
            " [28 44 18 16 16 15 26 23 64 46]\n",
            " [50 22 56 75 28 44  2 50 34 28]\n",
            " [28 52 50 28 64 46 50 64 28 75]\n",
            " [73 52 50 57  9 64 16 67 44 58]\n",
            " [23 44 50  1 67 63 23 50 71 67]\n",
            " [50 38 56 52 50 44 67 57 50 64]\n",
            " [50 28 64 44 80 52 18 50 60 34]\n",
            " [64  9 28 22 50 52 67 50 34 23]]\n"
          ]
        }
      ],
      "source": [
        "print('x\\n', x[:10, :10])\n",
        "print('\\ny\\n', y[:10, :10])"
      ]
    },
    {
      "cell_type": "markdown",
      "metadata": {
        "id": "YR7F5diWyLJm"
      },
      "source": [
        "If you implemented `get_batches` correctly, the above output should look something like \n",
        "```\n",
        "x\n",
        " [[55 63 69 22  6 76 45  5 16 35]\n",
        " [ 5 69  1  5 12 52  6  5 56 52]\n",
        " [48 29 12 61 35 35  8 64 76 78]\n",
        " [12  5 24 39 45 29 12 56  5 63]\n",
        " [ 5 29  6  5 29 78 28  5 78 29]\n",
        " [ 5 13  6  5 36 69 78 35 52 12]\n",
        " [63 76 12  5 18 52  1 76  5 58]\n",
        " [34  5 73 39  6  5 12 52 36  5]\n",
        " [ 6  5 29 78 12 79  6 61  5 59]\n",
        " [ 5 78 69 29 24  5  6 52  5 63]]\n",
        "\n",
        "y\n",
        " [[63 69 22  6 76 45  5 16 35 35]\n",
        " [69  1  5 12 52  6  5 56 52 29]\n",
        " [29 12 61 35 35  8 64 76 78 28]\n",
        " [ 5 24 39 45 29 12 56  5 63 29]\n",
        " [29  6  5 29 78 28  5 78 29 45]\n",
        " [13  6  5 36 69 78 35 52 12 43]\n",
        " [76 12  5 18 52  1 76  5 58 52]\n",
        " [ 5 73 39  6  5 12 52 36  5 78]\n",
        " [ 5 29 78 12 79  6 61  5 59 63]\n",
        " [78 69 29 24  5  6 52  5 63 76]]\n",
        " ```\n",
        " although the exact numbers will be different. Check to make sure the data is shifted over one step for `y`."
      ]
    },
    {
      "cell_type": "markdown",
      "metadata": {
        "id": "s3RiZ8payLJm"
      },
      "source": [
        "---\n",
        "## Defining the network with PyTorch\n",
        "\n",
        "Below is where you'll define the network. We'll break it up into parts so it's easier to reason about each bit. Then we can connect them up into the whole network.\n",
        "\n",
        "<img src=\"assets/charRNN.png\" width=500px>\n",
        "\n",
        "Next, you'll use PyTorch to define the architecture of the network. We start by defining the layers and operations we want. Then, define a method for the forward pass. You've also been given a method for predicting characters."
      ]
    },
    {
      "cell_type": "markdown",
      "metadata": {
        "id": "E3gaX7ivyLJm"
      },
      "source": [
        "### Model Structure\n",
        "\n",
        "In `__init__` the suggested structure is as follows:\n",
        "* Create and store the necessary dictionaries (this has been done for you)\n",
        "* Define an LSTM layer that takes as params: an input size (the number of characters), a hidden layer size `n_hidden`, a number of layers `n_layers`, a dropout probability `drop_prob`, and a batch_first boolean (True, since we are batching)\n",
        "* Define a dropout layer with `dropout_prob`\n",
        "* Define a fully-connected layer with params: input size `n_hidden` and output size (the number of characters)\n",
        "* Finally, initialize the weights (again, this has been given)\n",
        "\n",
        "Note that some parameters have been named and given in the `__init__` function, and we use them and store them by doing something like `self.drop_prob = drop_prob`."
      ]
    },
    {
      "cell_type": "markdown",
      "metadata": {
        "id": "GDmsSxkxyLJm"
      },
      "source": [
        "---\n",
        "### LSTM Inputs/Outputs\n",
        "\n",
        "You can create a basic LSTM cell as follows\n",
        "\n",
        "```python\n",
        "self.lstm = nn.LSTM(input_size, n_hidden, n_layers, \n",
        "                            dropout=drop_prob, batch_first=True)\n",
        "```\n",
        "\n",
        "where `input_size` is the number of characters this cell expects to see as sequential input, and `n_hidden` is the number of units in the hidden layers in the cell. And we can add dropout by adding a dropout parameter with a specified probability; this will automatically add dropout to the inputs or outputs. Finally, in the `forward` function, we can stack up the LSTM cells into layers using `.view`. With this, you pass in a list of cells and it will send the output of one cell into the next cell.\n",
        "\n",
        "We also need to create an initial cell state of all zeros. This is done like so\n",
        "\n",
        "```python\n",
        "self.init_weights()\n",
        "```"
      ]
    },
    {
      "cell_type": "code",
      "execution_count": 11,
      "metadata": {
        "id": "kwuEioMayLJm"
      },
      "outputs": [],
      "source": [
        "class CharRNN(nn.Module):\n",
        "    \n",
        "    def __init__(self, tokens, n_steps=100, n_hidden=256, n_layers=2,\n",
        "                               drop_prob=0.5, lr=0.001):\n",
        "        super().__init__()\n",
        "        self.drop_prob = drop_prob\n",
        "        self.n_layers = n_layers\n",
        "        self.n_hidden = n_hidden\n",
        "        self.lr = lr\n",
        "        \n",
        "        # creating character dictionaries\n",
        "        self.chars = tokens\n",
        "        self.int2char = dict(enumerate(self.chars))\n",
        "        self.char2int = {ch: ii for ii, ch in self.int2char.items()}\n",
        "        \n",
        "        ## TODO: define the LSTM, self.lstm\n",
        "        self.lstm = nn.LSTM(len(self.chars), n_hidden, n_layers, dropout=drop_prob, batch_first=True)\n",
        "        # input is a one_hot vector over the unique 83 characters (len(chars))\n",
        "        \n",
        "        ## TODO: define a dropout layer, self.dropout\n",
        "        self.dropout = nn.Dropout(drop_prob)\n",
        "        \n",
        "        ## TODO: define the final, fully-connected output layer, self.fc\n",
        "        self.fc = nn.Linear(n_hidden, len(self.chars))\n",
        "        \n",
        "        # initialize the weights\n",
        "        self.init_weights()\n",
        "      \n",
        "    \n",
        "    def forward(self, x, hc):\n",
        "        ''' Forward pass through the network. \n",
        "            These inputs are x, and the hidden/cell state `hc`. '''\n",
        "        \n",
        "        ## TODO: Get x, and the new hidden state (h, c) from the lstm   \n",
        "        lstm_out, (h, c) = self.lstm(x, hc)\n",
        "        \n",
        "        # stack up LSTM outputs\n",
        "        x = lstm_out.contiguous()\n",
        "        \n",
        "        ## TODO: pass x through a droupout layer\n",
        "        x = self.dropout(x)\n",
        "        \n",
        "        x = x.view(-1, self.n_hidden)\n",
        "        \n",
        "        # Stack up LSTM outputs using view\n",
        "        #x = x.view(x.size()[0]*x.size()[1], self.n_hidden)\n",
        "        \n",
        "        ## TODO: put x through the fully-connected layer\n",
        "        x = self.fc(x)\n",
        "        \n",
        "        # return x and the hidden state (h, c)\n",
        "        return x, (h, c)\n",
        "        \n",
        "    \n",
        "    def predict(self, char, h=None, cuda=False, top_k=None):\n",
        "        ''' Given a character, predict the next character.\n",
        "        \n",
        "            Returns the predicted character and the hidden state.\n",
        "        '''\n",
        "        if cuda:\n",
        "            self.cuda()\n",
        "        else:\n",
        "            self.cpu()\n",
        "        \n",
        "        if h is None:\n",
        "            h = self.init_hidden(1)\n",
        "        \n",
        "        x = np.array([[self.char2int[char]]])\n",
        "        x = one_hot_encode(x, len(self.chars))\n",
        "        inputs = torch.from_numpy(x)\n",
        "        if cuda:\n",
        "            inputs = inputs.cuda()\n",
        "        \n",
        "        h = tuple([each.data for each in h])\n",
        "        out, h = self.forward(inputs, h)\n",
        "\n",
        "        p = F.softmax(out, dim=1).data\n",
        "        if cuda:\n",
        "            p = p.cpu()\n",
        "        \n",
        "        if top_k is None:\n",
        "            top_ch = np.arange(len(self.chars))\n",
        "        else:\n",
        "            p, top_ch = p.topk(top_k)\n",
        "            top_ch = top_ch.numpy().squeeze()\n",
        "        \n",
        "        p = p.numpy().squeeze()\n",
        "        char = np.random.choice(top_ch, p=p/p.sum())\n",
        "            \n",
        "        return self.int2char[char], h\n",
        "    \n",
        "    def init_weights(self):\n",
        "        ''' Initialize weights for fully connected layer '''\n",
        "        initrange = 0.1\n",
        "        \n",
        "        # Set bias tensor to all zeros\n",
        "        self.fc.bias.data.fill_(0)\n",
        "        # FC weights as random uniform\n",
        "        self.fc.weight.data.uniform_(-1, 1)\n",
        "        \n",
        "    def init_hidden(self, n_seqs):\n",
        "        ''' Initializes hidden state '''\n",
        "        # Create two new tensors with sizes n_layers x n_seqs x n_hidden,\n",
        "        # initialized to zero, for hidden state and cell state of LSTM\n",
        "        weight = next(self.parameters()).data\n",
        "        return (weight.new(self.n_layers, n_seqs, self.n_hidden).zero_(),\n",
        "                weight.new(self.n_layers, n_seqs, self.n_hidden).zero_())\n",
        "        "
      ]
    },
    {
      "cell_type": "markdown",
      "metadata": {
        "id": "NLWLvylhyLJn"
      },
      "source": [
        "### A note on the `predict`  function\n",
        "\n",
        "The output of our RNN is from a fully-connected layer and it outputs a **distribution of next-character scores**.\n",
        "\n",
        "To actually get the next character, we apply a softmax function, which gives us a *probability* distribution that we can then sample to predict the next character."
      ]
    },
    {
      "cell_type": "code",
      "execution_count": 12,
      "metadata": {
        "id": "Hj5tJuoKyLJn"
      },
      "outputs": [],
      "source": [
        "## ---- keep notebook from crashing during training --- ##\n",
        "import os\n",
        "import requests\n",
        "import time\n",
        "\n",
        "def train(net, data, epochs=10, n_seqs=10, n_steps=50, lr=0.001, clip=5, val_frac=0.1, cuda=False, print_every=10):\n",
        "    ''' Training a network \n",
        "    \n",
        "        Arguments\n",
        "        ---------\n",
        "        \n",
        "        net: CharRNN network\n",
        "        data: text data to train the network\n",
        "        epochs: Number of epochs to train\n",
        "        n_seqs: Number of mini-sequences per mini-batch, aka batch size\n",
        "        n_steps: Number of character steps per mini-batch\n",
        "        lr: learning rate\n",
        "        clip: gradient clipping\n",
        "        val_frac: Fraction of data to hold out for validation\n",
        "        cuda: Train with CUDA on a GPU\n",
        "        print_every: Number of steps for printing training and validation loss\n",
        "    \n",
        "    '''\n",
        "    \n",
        "    net.train()\n",
        "    opt = torch.optim.Adam(net.parameters(), lr=lr)\n",
        "    criterion = nn.CrossEntropyLoss()\n",
        "    \n",
        "    # create training and validation data\n",
        "    val_idx = int(len(data)*(1-val_frac))\n",
        "    data, val_data = data[:val_idx], data[val_idx:]\n",
        "    \n",
        "    if cuda:\n",
        "        net.cuda()\n",
        "    \n",
        "    counter = 0\n",
        "    n_chars = len(net.chars)\n",
        "    \n",
        "    old_time = time.time()\n",
        "\n",
        "    for e in range(epochs):\n",
        "        h = net.init_hidden(n_seqs)\n",
        "        for x, y in get_batches(data, n_seqs, n_steps):\n",
        "            \n",
        "            if time.time() - old_time > 60:\n",
        "                old_time = time.time()\n",
        "                requests.request(\"POST\", \n",
        "                                 \"https://nebula.udacity.com/api/v1/remote/keep-alive\", \n",
        "                                 headers={'Authorization': \"STAR \" + response.text})\n",
        "            \n",
        "            counter += 1\n",
        "            \n",
        "            # One-hot encode our data and make them Torch tensors\n",
        "            x = one_hot_encode(x, n_chars)\n",
        "            inputs, targets = torch.from_numpy(x), torch.from_numpy(y)\n",
        "            \n",
        "            if cuda:\n",
        "                inputs, targets = inputs.cuda(), targets.cuda()\n",
        "\n",
        "            # Creating new variables for the hidden state, otherwise\n",
        "            # we'd backprop through the entire training history\n",
        "            h = tuple([each.data for each in h])\n",
        "\n",
        "            net.zero_grad()\n",
        "            \n",
        "            output, h = net.forward(inputs, h)\n",
        "            \n",
        "            loss = criterion(output, targets.view(n_seqs*n_steps))\n",
        "\n",
        "            loss.backward()\n",
        "            \n",
        "            # `clip_grad_norm` helps prevent the exploding gradient problem in RNNs / LSTMs.\n",
        "            nn.utils.clip_grad_norm_(net.parameters(), clip)\n",
        "\n",
        "            opt.step()\n",
        "            \n",
        "            if counter % print_every == 0:\n",
        "                # Get validation loss\n",
        "                val_h = net.init_hidden(n_seqs)\n",
        "                val_losses = []\n",
        "                for x, y in get_batches(val_data, n_seqs, n_steps):\n",
        "                    # One-hot encode our data and make them Torch tensors\n",
        "                    x = one_hot_encode(x, n_chars)\n",
        "                    x, y = torch.from_numpy(x), torch.from_numpy(y)\n",
        "                    \n",
        "                    # Creating new variables for the hidden state, otherwise\n",
        "                    # we'd backprop through the entire training history\n",
        "                    val_h = tuple([each.data for each in val_h])\n",
        "                    \n",
        "                    inputs, targets = x, y\n",
        "  \n",
        "                    if cuda:\n",
        "                        inputs, targets = inputs.cuda(), targets.cuda()\n",
        "                    \n",
        "                    output, val_h = net.forward(inputs, val_h)\n",
        " \n",
        "                    val_loss = criterion(output, targets.view(n_seqs*n_steps))\n",
        "                \n",
        "                    val_losses.append(val_loss.item())\n",
        "\n",
        "                print(\"Epoch: {}/{}...\".format(e+1, epochs),\n",
        "                      \"Step: {}...\".format(counter),\n",
        "                      \"Loss: {:.4f}...\".format(loss.item()),\n",
        "                      \"Val Loss: {:.4f}\".format(np.mean(val_losses)))"
      ]
    },
    {
      "cell_type": "markdown",
      "metadata": {
        "id": "frErlLEOyLJn"
      },
      "source": [
        "## Time to train\n",
        "\n",
        "Now we can actually train the network. First we'll create the network itself, with some given hyperparameters. Then, define the mini-batches sizes (number of sequences and number of steps), and start the training. With the train function, we can set the number of epochs, the learning rate, and other parameters. Also, we can run the training on a GPU by setting `cuda=True`."
      ]
    },
    {
      "cell_type": "code",
      "execution_count": 13,
      "metadata": {
        "id": "2645ptbXyLJn"
      },
      "outputs": [],
      "source": [
        "if 'net' in locals():\n",
        "    del net"
      ]
    },
    {
      "cell_type": "code",
      "execution_count": 14,
      "metadata": {
        "id": "NEk7Gb-IyLJn",
        "colab": {
          "base_uri": "https://localhost:8080/"
        },
        "outputId": "0a71809f-37a9-4323-cb52-12816822ed34"
      },
      "outputs": [
        {
          "output_type": "stream",
          "name": "stdout",
          "text": [
            "CharRNN(\n",
            "  (lstm): LSTM(83, 1024, num_layers=3, batch_first=True, dropout=0.5)\n",
            "  (dropout): Dropout(p=0.5, inplace=False)\n",
            "  (fc): Linear(in_features=1024, out_features=83, bias=True)\n",
            ")\n"
          ]
        }
      ],
      "source": [
        "# define and print the net\n",
        "net = CharRNN(chars, n_hidden=1024, n_layers=3)\n",
        "print(net)"
      ]
    },
    {
      "cell_type": "code",
      "execution_count": 15,
      "metadata": {
        "id": "nabe6uvtyLJo",
        "colab": {
          "base_uri": "https://localhost:8080/"
        },
        "outputId": "6a4ae2f4-5839-47d4-b8d3-f4c8d9419451"
      },
      "outputs": [
        {
          "output_type": "stream",
          "name": "stdout",
          "text": [
            "Training on GPU!\n"
          ]
        }
      ],
      "source": [
        "# check if GPU is available\n",
        "train_on_gpu = torch.cuda.is_available()\n",
        "if(train_on_gpu):\n",
        "    print('Training on GPU!')\n",
        "    cuda=True\n",
        "else: \n",
        "    print('No GPU available, training on CPU; consider making n_epochs very small.')\n",
        "    cuda=False"
      ]
    },
    {
      "cell_type": "code",
      "source": [],
      "metadata": {
        "id": "U_2gWDfYzCM2"
      },
      "execution_count": 15,
      "outputs": []
    },
    {
      "cell_type": "code",
      "execution_count": 22,
      "metadata": {
        "scrolled": true,
        "id": "VOGZSRRDyLJo",
        "colab": {
          "base_uri": "https://localhost:8080/"
        },
        "outputId": "4204ea99-1b1e-4507-cb47-410beb7e9f49"
      },
      "outputs": [
        {
          "output_type": "stream",
          "name": "stdout",
          "text": [
            "Epoch: 1/5... Step: 10... Loss: 1.8835... Val Loss: 1.9517\n",
            "Epoch: 1/5... Step: 20... Loss: 1.8484... Val Loss: 1.8936\n",
            "Epoch: 1/5... Step: 30... Loss: 1.8120... Val Loss: 1.8702\n",
            "Epoch: 1/5... Step: 40... Loss: 1.7708... Val Loss: 1.8576\n",
            "Epoch: 1/5... Step: 50... Loss: 1.7863... Val Loss: 1.8417\n",
            "Epoch: 1/5... Step: 60... Loss: 1.7094... Val Loss: 1.8280\n",
            "Epoch: 1/5... Step: 70... Loss: 1.7136... Val Loss: 1.8203\n",
            "Epoch: 1/5... Step: 80... Loss: 1.6948... Val Loss: 1.8058\n",
            "Epoch: 1/5... Step: 90... Loss: 1.7083... Val Loss: 1.7920\n",
            "Epoch: 1/5... Step: 100... Loss: 1.6825... Val Loss: 1.7791\n",
            "Epoch: 1/5... Step: 110... Loss: 1.6556... Val Loss: 1.7672\n",
            "Epoch: 1/5... Step: 120... Loss: 1.6261... Val Loss: 1.7594\n",
            "Epoch: 1/5... Step: 130... Loss: 1.6691... Val Loss: 1.7514\n",
            "Epoch: 2/5... Step: 140... Loss: 1.6564... Val Loss: 1.7412\n",
            "Epoch: 2/5... Step: 150... Loss: 1.6497... Val Loss: 1.7228\n",
            "Epoch: 2/5... Step: 160... Loss: 1.6426... Val Loss: 1.7125\n",
            "Epoch: 2/5... Step: 170... Loss: 1.6474... Val Loss: 1.7072\n",
            "Epoch: 2/5... Step: 180... Loss: 1.5845... Val Loss: 1.6948\n",
            "Epoch: 2/5... Step: 190... Loss: 1.5373... Val Loss: 1.6802\n",
            "Epoch: 2/5... Step: 200... Loss: 1.5307... Val Loss: 1.6737\n",
            "Epoch: 2/5... Step: 210... Loss: 1.5560... Val Loss: 1.6661\n",
            "Epoch: 2/5... Step: 220... Loss: 1.5295... Val Loss: 1.6575\n",
            "Epoch: 2/5... Step: 230... Loss: 1.5378... Val Loss: 1.6615\n",
            "Epoch: 2/5... Step: 240... Loss: 1.5421... Val Loss: 1.6389\n",
            "Epoch: 2/5... Step: 250... Loss: 1.5025... Val Loss: 1.6203\n",
            "Epoch: 2/5... Step: 260... Loss: 1.4667... Val Loss: 1.6285\n",
            "Epoch: 2/5... Step: 270... Loss: 1.5086... Val Loss: 1.6100\n",
            "Epoch: 3/5... Step: 280... Loss: 1.4944... Val Loss: 1.6160\n",
            "Epoch: 3/5... Step: 290... Loss: 1.4907... Val Loss: 1.5995\n",
            "Epoch: 3/5... Step: 300... Loss: 1.4443... Val Loss: 1.5892\n",
            "Epoch: 3/5... Step: 310... Loss: 1.4636... Val Loss: 1.5773\n",
            "Epoch: 3/5... Step: 320... Loss: 1.4234... Val Loss: 1.5732\n",
            "Epoch: 3/5... Step: 330... Loss: 1.4200... Val Loss: 1.5702\n",
            "Epoch: 3/5... Step: 340... Loss: 1.4656... Val Loss: 1.5655\n",
            "Epoch: 3/5... Step: 350... Loss: 1.4324... Val Loss: 1.5497\n",
            "Epoch: 3/5... Step: 360... Loss: 1.3718... Val Loss: 1.6025\n",
            "Epoch: 3/5... Step: 370... Loss: 1.4071... Val Loss: 1.5415\n",
            "Epoch: 3/5... Step: 380... Loss: 1.4204... Val Loss: 1.5292\n",
            "Epoch: 3/5... Step: 390... Loss: 1.3906... Val Loss: 1.5262\n",
            "Epoch: 3/5... Step: 400... Loss: 1.3762... Val Loss: 1.5170\n",
            "Epoch: 3/5... Step: 410... Loss: 1.3898... Val Loss: 1.5146\n",
            "Epoch: 4/5... Step: 420... Loss: 1.3965... Val Loss: 1.5154\n",
            "Epoch: 4/5... Step: 430... Loss: 1.3650... Val Loss: 1.4982\n",
            "Epoch: 4/5... Step: 440... Loss: 1.3764... Val Loss: 1.4920\n",
            "Epoch: 4/5... Step: 450... Loss: 1.3225... Val Loss: 1.4858\n",
            "Epoch: 4/5... Step: 460... Loss: 1.3086... Val Loss: 1.4803\n",
            "Epoch: 4/5... Step: 470... Loss: 1.3610... Val Loss: 1.4942\n",
            "Epoch: 4/5... Step: 480... Loss: 1.3596... Val Loss: 1.4811\n",
            "Epoch: 4/5... Step: 490... Loss: 1.3565... Val Loss: 1.4882\n",
            "Epoch: 4/5... Step: 500... Loss: 1.3864... Val Loss: 1.4865\n",
            "Epoch: 4/5... Step: 510... Loss: 1.3420... Val Loss: 1.4820\n",
            "Epoch: 4/5... Step: 520... Loss: 1.3422... Val Loss: 1.4673\n",
            "Epoch: 4/5... Step: 530... Loss: 1.3318... Val Loss: 1.4586\n",
            "Epoch: 4/5... Step: 540... Loss: 1.2943... Val Loss: 1.4626\n",
            "Epoch: 4/5... Step: 550... Loss: 1.3494... Val Loss: 1.4554\n",
            "Epoch: 5/5... Step: 560... Loss: 1.3099... Val Loss: 1.4501\n",
            "Epoch: 5/5... Step: 570... Loss: 1.3088... Val Loss: 1.4465\n",
            "Epoch: 5/5... Step: 580... Loss: 1.2892... Val Loss: 1.4477\n",
            "Epoch: 5/5... Step: 590... Loss: 1.2890... Val Loss: 1.4405\n",
            "Epoch: 5/5... Step: 600... Loss: 1.2763... Val Loss: 1.4473\n",
            "Epoch: 5/5... Step: 610... Loss: 1.2632... Val Loss: 1.4334\n",
            "Epoch: 5/5... Step: 620... Loss: 1.2793... Val Loss: 1.4279\n",
            "Epoch: 5/5... Step: 630... Loss: 1.2894... Val Loss: 1.4391\n",
            "Epoch: 5/5... Step: 640... Loss: 1.2759... Val Loss: 1.4366\n",
            "Epoch: 5/5... Step: 650... Loss: 1.2737... Val Loss: 1.4248\n",
            "Epoch: 5/5... Step: 660... Loss: 1.2604... Val Loss: 1.4217\n",
            "Epoch: 5/5... Step: 670... Loss: 1.2636... Val Loss: 1.4145\n",
            "Epoch: 5/5... Step: 680... Loss: 1.2695... Val Loss: 1.4099\n",
            "Epoch: 5/5... Step: 690... Loss: 1.2720... Val Loss: 1.4202\n"
          ]
        }
      ],
      "source": [
        "#from workspace_utils import active_session\n",
        "\n",
        "n_seqs, n_steps = 128, 100\n",
        "\n",
        "# you may change cuda to True if you plan on using a GPU!\n",
        "# also, if you do, please INCREASE the epochs to 25\n",
        "\n",
        "# Open the training log file.\n",
        "log_file = 'training_log.txt'\n",
        "f = open(log_file, 'w')\n",
        "\n",
        "response = requests.request(\"GET\", \n",
        "                            \"http://metadata.google.internal/computeMetadata/v1/instance/attributes/keep_alive_token\", \n",
        "                            headers={\"Metadata-Flavor\":\"Google\"})\n",
        "\n",
        "# TRAIN\n",
        "#with active_session():\n",
        "    \n",
        "train(net, encoded, epochs=5, n_seqs=n_seqs, n_steps=n_steps, lr=0.001, cuda=cuda, print_every=10)\n",
        "\n",
        "# Close the training log file.\n",
        "f.close()"
      ]
    },
    {
      "cell_type": "markdown",
      "metadata": {
        "id": "v1sjELpGyLJo"
      },
      "source": [
        "## Getting the best model\n",
        "\n",
        "To set your hyperparameters to get the best performance, you'll want to watch the training and validation losses. If your training loss is much lower than the validation loss, you're overfitting. Increase regularization (more dropout) or use a smaller network. If the training and validation losses are close, you're underfitting so you can increase the size of the network."
      ]
    },
    {
      "cell_type": "markdown",
      "metadata": {
        "id": "QDJLyAO6yLJo"
      },
      "source": [
        "## Hyperparameters\n",
        "\n",
        "Here are the hyperparameters for the network.\n",
        "\n",
        "In defining the model:\n",
        "* `n_hidden` - The number of units in the hidden layers.\n",
        "* `n_layers` - Number of hidden LSTM layers to use.\n",
        "\n",
        "We assume that dropout probability and learning rate will be kept at the default, in this example.\n",
        "\n",
        "And in training:\n",
        "* `n_seqs` - Number of sequences running through the network in one pass.\n",
        "* `n_steps` - Number of characters in the sequence the network is trained on. Larger is better typically, the network will learn more long range dependencies. But it takes longer to train. 100 is typically a good number here.\n",
        "* `lr` - Learning rate for training\n",
        "\n",
        "Here's some good advice from Andrej Karpathy on training the network. I'm going to copy it in here for your benefit, but also link to [where it originally came from](https://github.com/karpathy/char-rnn#tips-and-tricks).\n",
        "\n",
        "> ## Tips and Tricks\n",
        "\n",
        ">### Monitoring Validation Loss vs. Training Loss\n",
        ">If you're somewhat new to Machine Learning or Neural Networks it can take a bit of expertise to get good models. The most important quantity to keep track of is the difference between your training loss (printed during training) and the validation loss (printed once in a while when the RNN is run on the validation data (by default every 1000 iterations)). In particular:\n",
        "\n",
        "> - If your training loss is much lower than validation loss then this means the network might be **overfitting**. Solutions to this are to decrease your network size, or to increase dropout. For example you could try dropout of 0.5 and so on.\n",
        "> - If your training/validation loss are about equal then your model is **underfitting**. Increase the size of your model (either number of layers or the raw number of neurons per layer)\n",
        "\n",
        "> ### Approximate number of parameters\n",
        "\n",
        "> The two most important parameters that control the model are `n_hidden` and `n_layers`. I would advise that you always use `n_layers` of either 2/3. The `n_hidden` can be adjusted based on how much data you have. The two important quantities to keep track of here are:\n",
        "\n",
        "> - The number of parameters in your model. This is printed when you start training.\n",
        "> - The size of your dataset. 1MB file is approximately 1 million characters.\n",
        "\n",
        ">These two should be about the same order of magnitude. It's a little tricky to tell. Here are some examples:\n",
        "\n",
        "> - I have a 100MB dataset and I'm using the default parameter settings (which currently print 150K parameters). My data size is significantly larger (100 mil >> 0.15 mil), so I expect to heavily underfit. I am thinking I can comfortably afford to make `n_hidden` larger.\n",
        "> - I have a 10MB dataset and running a 10 million parameter model. I'm slightly nervous and I'm carefully monitoring my validation loss. If it's larger than my training loss then I may want to try to increase dropout a bit and see if that helps the validation loss.\n",
        "\n",
        "> ### Best models strategy\n",
        "\n",
        ">The winning strategy to obtaining very good models (if you have the compute time) is to always err on making the network larger (as large as you're willing to wait for it to compute) and then try different dropout values (between 0,1). Whatever model has the best validation performance (the loss, written in the checkpoint filename, low is good) is the one you should use in the end.\n",
        "\n",
        ">It is very common in deep learning to run many different models with many different hyperparameter settings, and in the end take whatever checkpoint gave the best validation performance.\n",
        "\n",
        ">By the way, the size of your training and validation splits are also parameters. Make sure you have a decent amount of data in your validation set or otherwise the validation performance will be noisy and not very informative."
      ]
    },
    {
      "cell_type": "markdown",
      "metadata": {
        "id": "Xq9J2NvFyLJo"
      },
      "source": [
        "After training, we'll save the model so we can load it again later if we need too. Here I'm saving the parameters needed to create the same architecture, the hidden layer hyperparameters and the text characters."
      ]
    },
    {
      "cell_type": "code",
      "execution_count": 23,
      "metadata": {
        "id": "O7H7FFRwyLJo"
      },
      "outputs": [],
      "source": [
        "# change the name, for saving multiple files\n",
        "model_name = 'rnn3L_25_epoch.net'\n",
        "\n",
        "checkpoint = {'n_hidden': net.n_hidden,\n",
        "              'n_layers': net.n_layers,\n",
        "              'state_dict': net.state_dict(),\n",
        "              'tokens': net.chars}\n",
        "\n",
        "with open(model_name, 'wb') as f:\n",
        "    torch.save(checkpoint, f)"
      ]
    },
    {
      "cell_type": "markdown",
      "metadata": {
        "id": "gPh3FwibyLJo"
      },
      "source": [
        "## Sampling\n",
        "\n",
        "Now that the model is trained, we'll want to sample from it. To sample, we pass in a character and have the network predict the next character. Then we take that character, pass it back in, and get another predicted character. Just keep doing this and you'll generate a bunch of text!\n",
        "\n",
        "### Top K sampling\n",
        "\n",
        "Our predictions come from a categorcial probability distribution over all the possible characters. We can make the sample text and make it more reasonable to handle (with less variables) by only considering some $K$ most probable characters. This will prevent the network from giving us completely absurd characters while allowing it to introduce some noise and randomness into the sampled text.\n",
        "\n",
        "Typically you'll want to prime the network so you can build up a hidden state. Otherwise the network will start out generating characters at random. In general the first bunch of characters will be a little rough since it hasn't built up a long history of characters to predict from."
      ]
    },
    {
      "cell_type": "code",
      "execution_count": 24,
      "metadata": {
        "id": "sLAn50OSyLJo"
      },
      "outputs": [],
      "source": [
        "def sample(net, size, prime='The', top_k=None, cuda=False):\n",
        "        \n",
        "    if cuda:\n",
        "        net.cuda()\n",
        "    else:\n",
        "        net.cpu()\n",
        "\n",
        "    net.eval()\n",
        "    \n",
        "    # First off, run through the prime characters\n",
        "    chars = [ch for ch in prime]\n",
        "    h = net.init_hidden(1)\n",
        "    for ch in prime:\n",
        "        char, h = net.predict(ch, h, cuda=cuda, top_k=top_k)\n",
        "\n",
        "    chars.append(char)\n",
        "    \n",
        "    # Now pass in the previous character and get a new one\n",
        "    for ii in range(size):\n",
        "        char, h = net.predict(chars[-1], h, cuda=cuda, top_k=top_k)\n",
        "        chars.append(char)\n",
        "\n",
        "    return ''.join(chars)"
      ]
    },
    {
      "cell_type": "code",
      "execution_count": 25,
      "metadata": {
        "id": "76Sst5t0yLJp",
        "colab": {
          "base_uri": "https://localhost:8080/"
        },
        "outputId": "e10d2239-69c8-4f2f-dcbf-3546e73b77f5"
      },
      "outputs": [
        {
          "output_type": "stream",
          "name": "stdout",
          "text": [
            "Anna seemed in this woman, then had seen\n",
            "his\n",
            "he said. \"Then you koow that you will be at our sound.\"\n",
            "\n",
            "Alexey Alexandrovitch said the more of that manner and shown, the day he had been\n",
            "truen, and that was though he were and to see her shoulders on a life and her thoughts\n",
            "of how she had been deprived in, who had been\n",
            "sering the feelings of them all the mosings of her asked and answer, and\n",
            "he was satisfaction of his wife, whom him all of a solution of his wife had\n",
            "been to be still as the serious thought of the person in a love. \"I've grown out of me, and is she did a good thing of this and\n",
            "was that something\n",
            "with you to the companion. What's such is. We mean? It's all this will there is\n",
            "tenser to the child always trails\n",
            "at him at the most to be anyway. If it it has not been all as all to be means to meet a begun, but though he would at tell all he were is to succ to them who had all\n",
            "so to see them....\"\n",
            "\n",
            "\"No, the commits of trains way.\"\n",
            "\n",
            "\"Where is all there is no letter and the sen it on me such a pity for me, but the people he won't be the princess is stining for me. I am. To that in her head and he would have nothing to say to me.\n",
            "\n",
            "The stame, there's always taken together and had been struped him.\"\n",
            "\n",
            "\"I don't see, you am a silence to sufferings.\"\n",
            "\n",
            "\"What a sense to suppress your answer for the first that I'm not going out in his children.\"\n",
            "\n",
            "\"What do you know your transfation of the position, the cheeks\n",
            "and a condessation in the picture of tears, he saw something to to ask him,\" she said, looking at Varenka, was she\n",
            "did not know him at once they were not life that he\n",
            "was steading and word who had been doubt, and that she had a stone in the store, and standing that she was so that she was an ider. She had been standing over taking a proceed frowned at the same time she had been tried, and the servants were a girl with which she was a carteful to his wife was a sense of\n",
            "the past when they were not to stop. And\n",
            "at the sight of a look stord with a sense of conversation in\n",
            "the sou\n"
          ]
        }
      ],
      "source": [
        "print(sample(net, 2000, prime='Anna', top_k=5, cuda=cuda))"
      ]
    },
    {
      "cell_type": "markdown",
      "metadata": {
        "id": "RHtxNajiyLJp"
      },
      "source": [
        "## Loading a checkpoint"
      ]
    },
    {
      "cell_type": "code",
      "execution_count": 26,
      "metadata": {
        "id": "MSEqOFFZyLJp",
        "colab": {
          "base_uri": "https://localhost:8080/"
        },
        "outputId": "03e7f319-504b-4a1e-c848-4e2c606284cf"
      },
      "outputs": [
        {
          "output_type": "execute_result",
          "data": {
            "text/plain": [
              "<All keys matched successfully>"
            ]
          },
          "metadata": {},
          "execution_count": 26
        }
      ],
      "source": [
        "# Here we have loaded in a model that trained over 1 epoch `rnn_1_epoch.net`\n",
        "with open('/content/rnn3L_25_epoch.net', 'rb') as f:\n",
        "    checkpoint = torch.load(f)\n",
        "    \n",
        "loaded = CharRNN(checkpoint['tokens'], n_hidden=checkpoint['n_hidden'], n_layers=checkpoint['n_layers'])\n",
        "loaded.load_state_dict(checkpoint['state_dict'])"
      ]
    },
    {
      "cell_type": "code",
      "execution_count": 27,
      "metadata": {
        "id": "JNYH9dqiyLJp",
        "colab": {
          "base_uri": "https://localhost:8080/"
        },
        "outputId": "5e6487b9-2fd5-4cf3-a107-bb98d505b668"
      },
      "outputs": [
        {
          "output_type": "stream",
          "name": "stdout",
          "text": [
            "And Levin said and as so made a\n",
            "creature time to succeed\n",
            "to the sounds of this singing and transfacial feeling was\n",
            "to see him to\n",
            "the\n",
            "propite of such a face\n",
            "almost doing\n",
            "instead of seventence of twatching happiness, but atticude her and stopped, with the feeling for her, she had begun sometimes friendly for them, but\n",
            "with waiters and said:\n",
            "\n",
            "\"What? I have seen it. All our sons in the state and a conversation. At hos before it, and I won't care to try\n",
            "to spoke, as I to believe, that will be as an arrangent of tantice, but were so\n",
            "seremonest conclusion with the matter of the sign from the matter.\"\n",
            "\n",
            "\"I'm not going. I say yesterday, but with the socran about myself,\" said Vassenka Vronsky. \"It's not marriage than his braid to tell make, to stait.\n",
            "\n",
            "\"Yes, I won't talk you.\"\n",
            "\n",
            "\"I don't wint in all to him.\" He said,\n",
            "trying not at all that, as though something that he was at the feeling of\n",
            "the same so made the more and a certain place of a concludity high servant, and a perfect to his frashing was angry watch on her tastes and the stands of the child strate over white the more time to see it, and as though the peasants, that the\n",
            "position of ways treatly shining to his husband, which was not as\n",
            "though, that there was the fresh and\n",
            "the solation of the stritive comman of the secrets over the mistake if the study, and\n",
            "that hore\n",
            "shoted the colder to tell the mather as though he felt thinger of the same at the contemptuous of the foocsming and another world that shall said themselves in speeking. The strite of her since that the same simply clars in his\n",
            "face and some song in the\n",
            "peasants.\n",
            "\n",
            "\"What was you sure,\" said Stepan Arkadyevitch, which he watched a seet about his\n",
            "face, he could see that this conversation was suffining him, but an instant had\n",
            "breaked how the mental passion was\n",
            "not angres,. \"He's not.\"\n",
            "\n",
            "\"Oh, what am I trying, to\n",
            "broach, the considerations.\"\n",
            "\n",
            "\"I did not know why they were always satisfied and wonder. All of all, he could not be that telling\n",
            "himself,\" said Levin. \"I'm going to me\n"
          ]
        }
      ],
      "source": [
        "# Change cuda to True if you are using GPU!\n",
        "print(sample(loaded, 2000, cuda=cuda, top_k=5, prime=\"And Levin said\"))"
      ]
    },
    {
      "cell_type": "code",
      "execution_count": null,
      "metadata": {
        "id": "5Cq_BbSWyLJp"
      },
      "outputs": [],
      "source": []
    }
  ],
  "metadata": {
    "kernelspec": {
      "display_name": "Python 3",
      "language": "python",
      "name": "python3"
    },
    "language_info": {
      "codemirror_mode": {
        "name": "ipython",
        "version": 3
      },
      "file_extension": ".py",
      "mimetype": "text/x-python",
      "name": "python",
      "nbconvert_exporter": "python",
      "pygments_lexer": "ipython3",
      "version": "3.6.3"
    },
    "colab": {
      "provenance": [],
      "include_colab_link": true
    },
    "accelerator": "GPU"
  },
  "nbformat": 4,
  "nbformat_minor": 0
}