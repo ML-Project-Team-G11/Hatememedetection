{
  "nbformat": 4,
  "nbformat_minor": 0,
  "metadata": {
    "colab": {
      "name": "[GitHub]benchmarks.ipynb",
      "provenance": [],
      "collapsed_sections": [
        "kE9_rJZfF_Rf",
        "FyX6Qos3Olyg",
        "dQfmpANWZO7i",
        "OvN397kXT-S5",
        "w5BfCb_YdeX4",
        "82U--UJSAJbI",
        "CBhK1UPCcLCd",
        "btDZNM5jhUbk",
        "DLckFL32OylY",
        "FAUlE_OrUNQf",
        "HpskfGOMdoks",
        "GJlMuZ_tbvlc",
        "SyR4Q5blcnkQ",
        "ApuIb9gThV2f",
        "qDk4s7aohs6w",
        "xV-sj_wdhwCK",
        "jwcXrl0jh51I"
      ],
      "machine_shape": "hm",
      "include_colab_link": true
    },
    "kernelspec": {
      "name": "python3",
      "display_name": "Python 3"
    },
    "accelerator": "GPU"
  },
  "cells": [
    {
      "cell_type": "markdown",
      "metadata": {
        "id": "view-in-github",
        "colab_type": "text"
      },
      "source": [
        "<a href=\"https://colab.research.google.com/github/rizavelioglu/hateful_memes-hate_detectron/blob/main/notebooks/%5BGitHub%5Dbenchmarks.ipynb\" target=\"_parent\"><img src=\"https://colab.research.google.com/assets/colab-badge.svg\" alt=\"Open In Colab\"/></a>"
      ]
    },
    {
      "cell_type": "markdown",
      "metadata": {
        "id": "kE9_rJZfF_Rf"
      },
      "source": [
        "## **Install MMF**"
      ]
    },
    {
      "cell_type": "code",
      "metadata": {
        "id": "CtyIgblgvdoY"
      },
      "source": [
        "!git clone https://github.com/facebookresearch/mmf.git"
      ],
      "execution_count": null,
      "outputs": []
    },
    {
      "cell_type": "code",
      "metadata": {
        "id": "2eVZPra-wMgt"
      },
      "source": [
        "import os\n",
        "os.chdir(\"mmf\")\n",
        "!pip install --editable ."
      ],
      "execution_count": null,
      "outputs": []
    },
    {
      "cell_type": "markdown",
      "metadata": {
        "id": "FyX6Qos3Olyg"
      },
      "source": [
        "---\n",
        "## **Download the dataset (Phase2) & convert it into *MMF* format**"
      ]
    },
    {
      "cell_type": "code",
      "metadata": {
        "id": "pruHlZCZht3p",
        "cellView": "form"
      },
      "source": [
        "#@markdown ---\n",
        "#@title <h1><b><font color='red'> --Action required!-- </b></font></h1> { run: \"auto\" }\n",
        "#@markdown First, please specify the download link and the `.zip` password which both can be taken from [DrivenData](https://www.drivendata.org/competitions/70/hateful-memes-phase-2/data/)\n",
        "\n",
        "\n",
        "YOUR_LINK_TO_DOWNLOAD_PHASE2_DATA = '' #@param {type:\"string\"}\n",
        "PASSWORD_OF_ZIP = '' #@param {type:\"string\"}"
      ],
      "execution_count": null,
      "outputs": []
    },
    {
      "cell_type": "code",
      "metadata": {
        "id": "XutqDqeyJrNm"
      },
      "source": [
        "!wget -O XjiOc5ycDBRRNwbhRlgH.zip --no-check-certificate --no-proxy \"$YOUR_LINK_TO_DOWNLOAD_PHASE2_DATA\""
      ],
      "execution_count": null,
      "outputs": []
    },
    {
      "cell_type": "code",
      "metadata": {
        "id": "aDzGAepgJrNp"
      },
      "source": [
        "!mmf_convert_hm --zip_file=\"XjiOc5ycDBRRNwbhRlgH.zip\" --password=$PASSWORD_OF_ZIP --bypass_checksum 1"
      ],
      "execution_count": null,
      "outputs": []
    },
    {
      "cell_type": "markdown",
      "metadata": {
        "id": "dQfmpANWZO7i"
      },
      "source": [
        "---\n",
        "## **Finetuning from a pretrained model & Generating Submission for the Challenge**\n",
        "https://mmf.sh/docs/tutorials/checkpointing/\n",
        "\n",
        "\n",
        "> **Example**\n",
        "https://github.com/apsdehal/hm_example_mmf\n",
        "\n",
        "\n",
        "After we trained the model and evaluated on the validation set, we will generate the predictions on the test set. The prediction file should contain the following three columns:\n",
        "\n",
        "- Meme identification number, id\n",
        "- Probability that the meme is hateful, proba\n",
        "- Binary label that the meme is hateful (1) or non-hateful (0), label\n",
        "\n",
        "> With MMF you can directly generate the predictions in the required submission format with the following command: \n",
        "\n",
        "**Note**: This command will output where the generated predictions csv file is stored."
      ]
    },
    {
      "cell_type": "code",
      "metadata": {
        "id": "8phSchWH9FN7"
      },
      "source": [
        "# Free up the disk by removing .zip, .tar files\n",
        "!rm -rf /root/.cache/torch/mmf/data/datasets/hateful_memes/defaults/features/features.tar.gz\n",
        "!rm -rf /root/.cache/torch/mmf/data/datasets/hateful_memes/defaults/images/XjiOc5ycDBRRNwbhRlgH.zip\n",
        "!rm -rf /content/mmf/XjiOc5ycDBRRNwbhRlgH.zip\n",
        "!rm -rf /root/.cache/torch/mmf/data/datasets/hateful_memes/defaults/extras.tar.gz"
      ],
      "execution_count": null,
      "outputs": []
    },
    {
      "cell_type": "markdown",
      "metadata": {
        "id": "OvN397kXT-S5"
      },
      "source": [
        "### <font color='magenta'> <b> VisualBERT </b> </font>"
      ]
    },
    {
      "cell_type": "code",
      "metadata": {
        "id": "9M1a1hRZNgHB"
      },
      "source": [
        "import os\n",
        "os.chdir(\"/content\")\n",
        "\n",
        "!mmf_run config=\"projects/visual_bert/configs/hateful_memes/from_coco.yaml\" \\\n",
        "        model=\"visual_bert\" \\\n",
        "        dataset=hateful_memes \\\n",
        "        run_type=train_val \\\n",
        "        training.batch_size=32 \\\n",
        "        training.tensorboard=True \\\n",
        "        env.tensorboard_logdir=\"logs/fit/\" \\\n",
        "        training.checkpoint_interval=100 \\\n",
        "        training.evaluation_interval=100 \\\n",
        "        checkpoint.max_to_keep=1 \\\n",
        "        training.max_updates=3000 \\\n",
        "        training.log_interval=100 \\\n",
        "        checkpoint.resume_zoo=visual_bert.pretrained.coco.fifty_pc \\\n",
        "        training.lr_ratio=0.3 \\\n",
        "        dataset_config.hateful_memes.annotations.train[0]=\"hateful_memes/defaults/annotations/train.jsonl\" \\\n",
        "        dataset_config.hateful_memes.annotations.val[0]=\"hateful_memes/defaults/annotations/dev_unseen.jsonl\" \\\n",
        "        dataset_config.hateful_memes.annotations.test[0]=\"hateful_memes/defaults/annotations/test_unseen.jsonl\" \\"
      ],
      "execution_count": null,
      "outputs": []
    },
    {
      "cell_type": "markdown",
      "metadata": {
        "id": "w5BfCb_YdeX4"
      },
      "source": [
        "##### **Visualize losses/accuracy via Tensorboard**"
      ]
    },
    {
      "cell_type": "code",
      "metadata": {
        "id": "jeFuYAVzI_Nx"
      },
      "source": [
        "# Load the TensorBoard notebook extension\n",
        "%load_ext tensorboard"
      ],
      "execution_count": null,
      "outputs": []
    },
    {
      "cell_type": "code",
      "metadata": {
        "id": "OVB4eQ1gOw4j"
      },
      "source": [
        "%tensorboard --logdir logs/fit"
      ],
      "execution_count": null,
      "outputs": []
    },
    {
      "cell_type": "markdown",
      "metadata": {
        "id": "82U--UJSAJbI"
      },
      "source": [
        "##### **Running validation using the trained model**"
      ]
    },
    {
      "cell_type": "code",
      "metadata": {
        "id": "0Q2jIOaqANR2"
      },
      "source": [
        "!mmf_run config=\"projects/visual_bert/configs/hateful_memes/defaults.yaml\" \\\n",
        "    model=\"visual_bert\" \\\n",
        "    dataset=hateful_memes \\\n",
        "    run_type=val \\\n",
        "    checkpoint.resume_file=\"/content/save/best.ckpt\" \\\n",
        "    dataset_config.hateful_memes.annotations.test[0]=\"hateful_memes/defaults/annotations/test_unseen.jsonl\" \\\n",
        "    dataset_config.hateful_memes.annotations.val[0]=\"hateful_memes/defaults/annotations/dev_unseen.jsonl\" \\\n",
        "    dataset_config.hateful_memes.features.train[0]=\"/content/features\" \\\n",
        "    dataset_config.hateful_memes.features.val[0]=\"/content/features\" \\\n",
        "    dataset_config.hateful_memes.features.test[0]=\"/content/features\" \\"
      ],
      "execution_count": null,
      "outputs": []
    },
    {
      "cell_type": "markdown",
      "metadata": {
        "id": "CBhK1UPCcLCd"
      },
      "source": [
        "##### **Generate predictions for the Challenge**"
      ]
    },
    {
      "cell_type": "code",
      "metadata": {
        "id": "XmaeQY_GcS93"
      },
      "source": [
        "!mmf_predict config=\"projects/visual_bert/configs/hateful_memes/defaults.yaml\" \\\n",
        "    model=\"visual_bert\" \\\n",
        "    dataset=hateful_memes \\\n",
        "    run_type=test \\\n",
        "    checkpoint.resume_file=\"/content/mmf/save/best.ckpt\""
      ],
      "execution_count": null,
      "outputs": []
    },
    {
      "cell_type": "markdown",
      "metadata": {
        "id": "btDZNM5jhUbk"
      },
      "source": [
        "---\n",
        "### <font color='magenta'> <b> ViLBERT </b> </font>"
      ]
    },
    {
      "cell_type": "code",
      "metadata": {
        "id": "qq7UMTzRd7TW"
      },
      "source": [
        "\"\"\"\n",
        "https://github.com/facebookresearch/mmf/tree/master/projects/pretrain_vl_right\n",
        "Pretrained Model: Pretrained Key\n",
        "--------------------------------\n",
        "Masked COCO 100% : vilbert.pretrained.coco\n",
        "Masked VQA2 100% : vilbert.pretrained.vqa2\n",
        "Masked CC 100%   : vilbert.pretrained.cc.full\n",
        "\"\"\"\n",
        "\n",
        "!export OC_DISABLE_DOT_ACCESS_WARNING=1\n",
        "\n",
        "\n",
        "!mmf_run config=\"projects/vilbert/configs/hateful_memes/from_cc.yaml\" \\\n",
        "        model=\"vilbert\" \\\n",
        "        dataset=hateful_memes \\\n",
        "        run_type=train_val \\\n",
        "        training.batch_size=32 \\\n",
        "        training.tensorboard=True \\\n",
        "        env.tensorboard_logdir=\"logs/fit/\" \\\n",
        "        training.checkpoint_interval=500 \\\n",
        "        training.evaluation_interval=200 \\\n",
        "        checkpoint.max_to_keep=1 \\\n",
        "        training.max_updates=10000 \\\n",
        "        training.log_interval=50 \\\n",
        "        checkpoint.resume_zoo=vilbert.pretrained.cc.full \\\n",
        "        training.lr_ratio=0.3 \\"
      ],
      "execution_count": null,
      "outputs": []
    },
    {
      "cell_type": "markdown",
      "metadata": {
        "id": "DLckFL32OylY"
      },
      "source": [
        "##### **Visualize losses/accuracy via Tensorboard**"
      ]
    },
    {
      "cell_type": "code",
      "metadata": {
        "id": "CMKeQv3gOylq"
      },
      "source": [
        "# Load the TensorBoard notebook extension\n",
        "%load_ext tensorboard"
      ],
      "execution_count": null,
      "outputs": []
    },
    {
      "cell_type": "code",
      "metadata": {
        "id": "xjBlELRrOylz"
      },
      "source": [
        "%tensorboard --logdir logs/fit"
      ],
      "execution_count": null,
      "outputs": []
    },
    {
      "cell_type": "markdown",
      "metadata": {
        "id": "FAUlE_OrUNQf"
      },
      "source": [
        "---\n",
        "### <font color='magenta'> <b> MMBT </b> </font>"
      ]
    },
    {
      "cell_type": "code",
      "metadata": {
        "id": "i2OcnOjpbffp"
      },
      "source": [
        "\"\"\"\n",
        "  To train MMBT model with Faster RCNN region features on the Hateful Memes dataset, run the following command\n",
        "\"\"\"\n",
        "# To train MMBT model with grid features on the Hateful Memes dataset, run the following command\n",
        "#   mmf_run config=projects/mmbt/configs/hateful_memes/defaults.yaml run_type=train_val dataset=hateful_memes model=mmbt\n",
        "!mmf_run config=\"projects/mmbt/configs/hateful_memes/with_features.yaml\" \\\n",
        "        model=\"mmbt\" \\\n",
        "        dataset=hateful_memes \\\n",
        "        run_type=train_val \\\n",
        "        training.batch_size=32 \\\n",
        "        training.tensorboard=True \\\n",
        "        env.tensorboard_logdir=\"logs/fit/\" \\\n",
        "        training.checkpoint_interval=2000 \\\n",
        "        training.evaluation_interval=2000 \\"
      ],
      "execution_count": null,
      "outputs": []
    },
    {
      "cell_type": "markdown",
      "metadata": {
        "id": "HpskfGOMdoks"
      },
      "source": [
        "##### **Visualize losses/accuracy via Tensorboard**"
      ]
    },
    {
      "cell_type": "code",
      "metadata": {
        "id": "bfD8smLPbn1q"
      },
      "source": [
        "# Load the TensorBoard notebook extension\n",
        "%load_ext tensorboard"
      ],
      "execution_count": null,
      "outputs": []
    },
    {
      "cell_type": "code",
      "metadata": {
        "id": "tnndNj19boMO"
      },
      "source": [
        "%tensorboard --logdir logs/fit"
      ],
      "execution_count": null,
      "outputs": []
    },
    {
      "cell_type": "markdown",
      "metadata": {
        "id": "GJlMuZ_tbvlc"
      },
      "source": [
        "##### **Running validation using the trained model**"
      ]
    },
    {
      "cell_type": "code",
      "metadata": {
        "id": "YJJ0WWXybvle"
      },
      "source": [
        "!mmf_run config=\"projects/mmbt/configs/hateful_memes/with_features.yaml\" \\\n",
        "    model=\"mmbt\" \\\n",
        "    dataset=hateful_memes \\\n",
        "    run_type=val \\\n",
        "    checkpoint.resume_file=\"/content/mmf/save/best.ckpt\""
      ],
      "execution_count": null,
      "outputs": []
    },
    {
      "cell_type": "markdown",
      "metadata": {
        "id": "SyR4Q5blcnkQ"
      },
      "source": [
        "##### **Generate predictions for the Challenge**"
      ]
    },
    {
      "cell_type": "code",
      "metadata": {
        "id": "Fa4VVVvNAZKq"
      },
      "source": [
        "!mmf_predict config=\"projects/mmbt/configs/hateful_memes/with_features.yaml\" \\\n",
        "    model=\"mmbt\" \\\n",
        "    dataset=hateful_memes \\\n",
        "    run_type=test \\\n",
        "    checkpoint.resume_file=\"/content/mmf/save/best.ckpt\""
      ],
      "execution_count": null,
      "outputs": []
    },
    {
      "cell_type": "markdown",
      "metadata": {
        "id": "ApuIb9gThV2f"
      },
      "source": [
        "---\n",
        "### <font color='magenta'> <b> ConcatBERT </b> </font>"
      ]
    },
    {
      "cell_type": "code",
      "metadata": {
        "id": "ZatY_Cm5uuIz"
      },
      "source": [
        "import os\n",
        "os.chdir(\"/content\")\n",
        "\n",
        "!mmf_run config=\"projects/others/concat_bert/hateful_memes/defaults.yaml\" \\\n",
        "        model=\"concat_bert\" \\\n",
        "        dataset=hateful_memes \\\n",
        "        run_type=train_val \\\n",
        "        training.batch_size=32 \\\n",
        "        training.tensorboard=True \\\n",
        "        env.tensorboard_logdir=\"logs/fit/\" \\\n",
        "        training.checkpoint_interval=100 \\\n",
        "        training.evaluation_interval=100 \\\n",
        "        checkpoint.max_to_keep=1 \\\n",
        "        training.max_updates=3000 \\\n",
        "        training.log_interval=100 \\\n",
        "        checkpoint.resume_zoo=visual_bert.pretrained.cc.full \\\n",
        "        training.lr_ratio=0.3 \\\n",
        "        dataset_config.hateful_memes.annotations.train[0]=\"hateful_memes/defaults/annotations/train.jsonl\" \\\n",
        "        dataset_config.hateful_memes.annotations.val[0]=\"hateful_memes/defaults/annotations/dev_unseen.jsonl\" \\\n",
        "        dataset_config.hateful_memes.annotations.test[0]=\"hateful_memes/defaults/annotations/test_unseen.jsonl\" \\"
      ],
      "execution_count": null,
      "outputs": []
    },
    {
      "cell_type": "markdown",
      "metadata": {
        "id": "qDk4s7aohs6w"
      },
      "source": [
        "---\n",
        "### <font color='magenta'> <b> ConcatBOW </b> </font>"
      ]
    },
    {
      "cell_type": "code",
      "metadata": {
        "id": "lN-fm7LBhtEL"
      },
      "source": [
        "!mmf_run config=\"projects/others/concat_bow/hateful_memes/defaults.yaml\" \\\n",
        "        model=\"concat_bow\" \\\n",
        "        dataset=hateful_memes \\\n",
        "        run_type=train_val \\\n",
        "        training.batch_size=32 \\"
      ],
      "execution_count": null,
      "outputs": []
    },
    {
      "cell_type": "markdown",
      "metadata": {
        "id": "xV-sj_wdhwCK"
      },
      "source": [
        "---\n",
        "### <font color='magenta'> <b> Late Fusion </b> </font>"
      ]
    },
    {
      "cell_type": "code",
      "metadata": {
        "id": "MqIcPT2rhwMw"
      },
      "source": [
        "!mmf_run config=\"projects/others/late_fusion/hateful_memes/defaults.yaml\" \\\n",
        "        model=\"late_fusion\" \\\n",
        "        dataset=hateful_memes \\\n",
        "        run_type=train_val \\\n",
        "        training.batch_size=32 \\"
      ],
      "execution_count": null,
      "outputs": []
    },
    {
      "cell_type": "markdown",
      "metadata": {
        "id": "jwcXrl0jh51I"
      },
      "source": [
        "---\n",
        "### <font color='magenta'> <b> CNN-LSTM </b> </font>"
      ]
    },
    {
      "cell_type": "code",
      "metadata": {
        "id": "0JL7SFdQh58p"
      },
      "source": [
        "!mmf_run config=\"projects/others/cnn_lstm/hateful_memes/defaults.yaml\" \\\n",
        "        model=\"cnn_lstm\" \\\n",
        "        dataset=hateful_memes \\\n",
        "        run_type=train_val \\\n",
        "        training.batch_size=32 \\"
      ],
      "execution_count": null,
      "outputs": []
    }
  ]
}